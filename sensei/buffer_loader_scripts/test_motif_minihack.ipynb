{
 "cells": [
  {
   "cell_type": "code",
   "execution_count": 1,
   "id": "1add212b",
   "metadata": {},
   "outputs": [],
   "source": [
    "import os\n",
    "\n",
    "import ruamel.yaml as yaml\n",
    "\n",
    "from dreamerv3.embodied import replay as dreamer_replay\n",
    "from dreamerv3.embodied.core.basics import unpack\n",
    "from dreamerv3.embodied.core.config import Config\n",
    "from dreamerv3.embodied.core.path import Path\n",
    "\n",
    "import imageio\n",
    "import numpy as np\n",
    "import pickle\n",
    "import os\n",
    "from PIL import Image\n",
    "from utils import scan, setup_video, concatenate_images, GlyphMapperCustom, generate_pairs, distance_to_previous_ones"
   ]
  },
  {
   "cell_type": "markdown",
   "id": "adacad85",
   "metadata": {},
   "source": [
    "## Specify dataset"
   ]
  },
  {
   "cell_type": "code",
   "execution_count": 2,
   "id": "506cb301",
   "metadata": {},
   "outputs": [],
   "source": [
    "# dataset_dir = \"/is/cluster/fast/csancaktar/sensei_datasets/minihack/keyroom_s15_run8_inventory_full_fixed_staircase\"\n",
    "# dataset_dir = \"/is/cluster/fast/csancaktar/sensei_datasets/minihack/keyroom_s15_p2e_run2_random_dataset_100K\"\n",
    "dataset_dir = \"/is/cluster/fast/csancaktar/sensei_datasets/minihack/keychest_random_dataset_100K\"\n",
    "\n",
    "with open(os.path.join(dataset_dir, \"data\", \"images.pickle\"), \"rb\") as data:\n",
    "    images_array = pickle.load(data)"
   ]
  },
  {
   "cell_type": "code",
   "execution_count": 3,
   "id": "2f207510",
   "metadata": {},
   "outputs": [
    {
     "data": {
      "text/plain": [
       "(100000, 2, 1, 80, 80, 3)"
      ]
     },
     "execution_count": 3,
     "metadata": {},
     "output_type": "execute_result"
    }
   ],
   "source": [
    "images_array.shape"
   ]
  },
  {
   "cell_type": "code",
   "execution_count": 4,
   "id": "ed624aab",
   "metadata": {},
   "outputs": [],
   "source": [
    "# preferences_binary = np.load(os.path.join(dataset_dir, \"preference\", \"preferences_gt_inventory.npy\"))\n",
    "preferences_binary = np.load(os.path.join(dataset_dir, \"preference\", \"preferences_gpt4.npy\"))"
   ]
  },
  {
   "cell_type": "code",
   "execution_count": 5,
   "id": "4e9857ca",
   "metadata": {},
   "outputs": [
    {
     "data": {
      "text/plain": [
       "(100000,)"
      ]
     },
     "execution_count": 5,
     "metadata": {},
     "output_type": "execute_result"
    }
   ],
   "source": [
    "preferences_binary.shape"
   ]
  },
  {
   "cell_type": "code",
   "execution_count": 57,
   "id": "9254e6c0",
   "metadata": {},
   "outputs": [],
   "source": [
    "inv_glyphs = np.load(os.path.join(dataset_dir, \"data\", \"inv_glyphs.npy\"))\n",
    "inv_glyphs_binary = np.load(os.path.join(dataset_dir, \"data\", \"observations.npy\"))\n",
    "inv_strings = np.load(os.path.join(dataset_dir, \"data\", \"inv_strings.npy\"))\n",
    "glpyhs = np.load(os.path.join(dataset_dir, \"data\", \"obs_glyphs.npy\"))\n",
    "messages = np.load(os.path.join(dataset_dir, \"data\", \"messages.npy\"))"
   ]
  },
  {
   "cell_type": "code",
   "execution_count": 58,
   "id": "e7b725ab",
   "metadata": {},
   "outputs": [
    {
     "data": {
      "text/plain": [
       "(100000, 2, 1, 10, 80)"
      ]
     },
     "execution_count": 58,
     "metadata": {},
     "output_type": "execute_result"
    }
   ],
   "source": [
    "inv_strings.shape"
   ]
  },
  {
   "cell_type": "code",
   "execution_count": 59,
   "id": "bcfce5b2",
   "metadata": {},
   "outputs": [],
   "source": [
    "global_i = 0"
   ]
  },
  {
   "cell_type": "markdown",
   "id": "41335c71",
   "metadata": {},
   "source": [
    "## Visualize some pairs!"
   ]
  },
  {
   "cell_type": "code",
   "execution_count": 60,
   "id": "2a8ebd52",
   "metadata": {},
   "outputs": [],
   "source": [
    "global_i += 1"
   ]
  },
  {
   "cell_type": "code",
   "execution_count": 61,
   "id": "7cd60c45",
   "metadata": {},
   "outputs": [],
   "source": [
    "dataset_i = np.random.randint(images_array.shape[0])"
   ]
  },
  {
   "cell_type": "code",
   "execution_count": 62,
   "id": "9fa6cb61",
   "metadata": {},
   "outputs": [
    {
     "data": {
      "image/png": "[encoded data removed]",
      "text/plain": [
       "<PIL.Image.Image image mode=RGB size=80x80>"
      ]
     },
     "execution_count": 62,
     "metadata": {},
     "output_type": "execute_result"
    }
   ],
   "source": [
    "Image.fromarray(images_array[dataset_i,0,0,...])"
   ]
  },
  {
   "cell_type": "code",
   "execution_count": 63,
   "id": "dbbef79e",
   "metadata": {},
   "outputs": [
    {
     "data": {
      "image/png": "[encoded data removed]",
      "text/plain": [
       "<PIL.Image.Image image mode=RGB size=80x80>"
      ]
     },
     "execution_count": 63,
     "metadata": {},
     "output_type": "execute_result"
    }
   ],
   "source": [
    "Image.fromarray(images_array[dataset_i,1,0,...])"
   ]
  },
  {
   "cell_type": "code",
   "execution_count": 64,
   "id": "e853ca78",
   "metadata": {},
   "outputs": [
    {
     "data": {
      "text/plain": [
       "1.0"
      ]
     },
     "execution_count": 64,
     "metadata": {},
     "output_type": "execute_result"
    }
   ],
   "source": [
    "preferences_binary[dataset_i]"
   ]
  },
  {
   "cell_type": "code",
   "execution_count": 79,
   "id": "cc2e1893-0551-4ad6-a23a-101e4ce3e280",
   "metadata": {},
   "outputs": [
    {
     "data": {
      "text/plain": [
       "array([ 32,  45,  32,  97,  32, 107, 101, 121,  46,   0,   0,   0,   0,\n",
       "         0,   0,   0,   0,   0,   0,   0,   0,   0,   0,   0,   0,   0,\n",
       "         0,   0,   0,   0,   0,   0,   0,   0,   0,   0,   0,   0,   0,\n",
       "         0,   0,   0,   0,   0,   0,   0,   0,   0,   0,   0,   0,   0,\n",
       "         0,   0,   0,   0,   0,   0,   0,   0,   0,   0,   0,   0,   0,\n",
       "         0,   0,   0,   0,   0,   0,   0,   0,   0,   0,   0,   0,   0,\n",
       "         0,   0,   0,   0,   0,   0,   0,   0,   0,   0,   0,   0,   0,\n",
       "         0,   0,   0,   0,   0,   0,   0,   0,   0,   0,   0,   0,   0,\n",
       "         0,   0,   0,   0,   0,   0,   0,   0,   0,   0,   0,   0,   0,\n",
       "         0,   0,   0,   0,   0,   0,   0,   0,   0,   0,   0,   0,   0,\n",
       "         0,   0,   0,   0,   0,   0,   0,   0,   0,   0,   0,   0,   0,\n",
       "         0,   0,   0,   0,   0,   0,   0,   0,   0,   0,   0,   0,   0,\n",
       "         0,   0,   0,   0,   0,   0,   0,   0,   0,   0,   0,   0,   0,\n",
       "         0,   0,   0,   0,   0,   0,   0,   0,   0,   0,   0,   0,   0,\n",
       "         0,   0,   0,   0,   0,   0,   0,   0,   0,   0,   0,   0,   0,\n",
       "         0,   0,   0,   0,   0,   0,   0,   0,   0,   0,   0,   0,   0,\n",
       "         0,   0,   0,   0,   0,   0,   0,   0,   0,   0,   0,   0,   0,\n",
       "         0,   0,   0,   0,   0,   0,   0,   0,   0,   0,   0,   0,   0,\n",
       "         0,   0,   0,   0,   0,   0,   0,   0,   0,   0,   0,   0,   0,\n",
       "         0,   0,   0,   0,   0,   0,   0,   0], dtype=uint8)"
      ]
     },
     "execution_count": 79,
     "metadata": {},
     "output_type": "execute_result"
    }
   ],
   "source": [
    "unique_messages[-1][1:]"
   ]
  },
  {
   "cell_type": "code",
   "execution_count": 52,
   "id": "dd6de5e9",
   "metadata": {},
   "outputs": [],
   "source": [
    "# img_dir = \"/lustre/home/csancaktar/Projects/mydream_er/minihack4chris\"\n",
    "\n",
    "# pref = preferences_binary[dataset_i]\n",
    "# key1 = inv_glyphs_binary[dataset_i,0,0,...].item()\n",
    "# key2 = inv_glyphs_binary[dataset_i,1,0,...].item()\n",
    "\n",
    "# # Image.fromarray(images_array[dataset_i,0,0,...]).save(os.path.join(img_dir, f\"image_pair{global_i}_1_key{key1}_pref{pref+1}.png\"))\n",
    "# # Image.fromarray(images_array[dataset_i,1,0,...]).save(os.path.join(img_dir, f\"image_pair{global_i}_2_key{key2}_pref{pref+1}.png\"))\n"
   ]
  },
  {
   "cell_type": "code",
   "execution_count": 53,
   "id": "a6d2aee3",
   "metadata": {},
   "outputs": [],
   "source": [
    "# inv_glyphs[dataset_i,0,0,...], inv_glyphs[dataset_i,1,0,...]"
   ]
  },
  {
   "cell_type": "code",
   "execution_count": 54,
   "id": "5c5b4551",
   "metadata": {
    "scrolled": true
   },
   "outputs": [
    {
     "data": {
      "text/plain": [
       "(array([0], dtype=uint8), array([0], dtype=uint8))"
      ]
     },
     "execution_count": 54,
     "metadata": {},
     "output_type": "execute_result"
    }
   ],
   "source": [
    "inv_glyphs_binary[dataset_i,0,0,...], inv_glyphs_binary[dataset_i,1,0,...]"
   ]
  },
  {
   "cell_type": "code",
   "execution_count": 56,
   "id": "02a2c67e",
   "metadata": {},
   "outputs": [
    {
     "name": "stdout",
     "output_type": "stream",
     "text": [
      "a +0 short sword (weapon in hand)\n",
      "10 +0 daggers (alternate weapon; not wielded)\n",
      "an uncursed +1 leather armor (being worn)\n",
      "an uncursed potion of sickness\n",
      "an uncursed lock pick\n",
      "an empty uncursed sack\n",
      "\n",
      "\n",
      "\n",
      "\n"
     ]
    }
   ],
   "source": [
    "for i in range(10):\n",
    "    print(\"\".join([chr(c) for c in inv_strings[dataset_i,1,0,i,:] if c >= 32]))"
   ]
  },
  {
   "cell_type": "code",
   "execution_count": 55,
   "id": "9f4b406a",
   "metadata": {
    "scrolled": true
   },
   "outputs": [
    {
     "name": "stdout",
     "output_type": "stream",
     "text": [
      "a +0 short sword (weapon in hand)\n",
      "8 +0 daggers (alternate weapon; not wielded)\n",
      "an uncursed +1 leather armor (being worn)\n",
      "an uncursed potion of sickness\n",
      "an uncursed lock pick\n",
      "an empty uncursed sack\n",
      "\n",
      "\n",
      "\n",
      "\n"
     ]
    }
   ],
   "source": [
    "for i in range(10):\n",
    "    print(\"\".join([chr(c) for c in inv_strings[dataset_i,0,0,i,:] if c >= 32]))"
   ]
  },
  {
   "cell_type": "code",
   "execution_count": 66,
   "id": "51ecb31b",
   "metadata": {},
   "outputs": [
    {
     "data": {
      "text/plain": [
       "(array([[2359, 2362, 2361, 2361, 2363],\n",
       "        [2359, 2360, 2378, 2378, 2360],\n",
       "        [2359, 2374,  337, 2378, 2360],\n",
       "        [2359, 2360, 2378, 2378, 2360],\n",
       "        [2359, 2374, 2382, 2378, 2360]]),\n",
       " array([[2359, 2362, 2375, 2361, 2369],\n",
       "        [2359, 2360, 2378, 2378, 2360],\n",
       "        [2359, 2360,  337, 2378, 2372],\n",
       "        [2359, 2370, 2373, 2361, 2369],\n",
       "        [2359, 2360, 2378, 2102, 2374]]))"
      ]
     },
     "execution_count": 66,
     "metadata": {},
     "output_type": "execute_result"
    }
   ],
   "source": [
    "glpyhs[dataset_i,0,0,...], glpyhs[dataset_i,1,0,...]"
   ]
  },
  {
   "cell_type": "code",
   "execution_count": null,
   "id": "5f28abdc-b6a3-42f4-91f0-b64aa78a8ae5",
   "metadata": {},
   "outputs": [],
   "source": []
  },
  {
   "cell_type": "code",
   "execution_count": 70,
   "id": "8ca2d337-9d7b-43d3-a34a-2991a13754ac",
   "metadata": {
    "scrolled": true
   },
   "outputs": [
    {
     "name": "stdout",
     "output_type": "stream",
     "text": [
      "Gone through 10000 samples!\n",
      "Gone through 20000 samples!\n",
      "Gone through 30000 samples!\n",
      "Gone through 40000 samples!\n",
      "Gone through 50000 samples!\n",
      "Gone through 60000 samples!\n",
      "Gone through 70000 samples!\n",
      "Gone through 80000 samples!\n",
      "Gone through 90000 samples!\n",
      "Gone through 100000 samples!\n",
      "Gone through 110000 samples!\n",
      "Gone through 120000 samples!\n",
      "Gone through 130000 samples!\n",
      "Gone through 140000 samples!\n",
      "Gone through 150000 samples!\n",
      "Gone through 160000 samples!\n",
      "Gone through 170000 samples!\n",
      "Gone through 180000 samples!\n",
      "Gone through 190000 samples!\n",
      "Gone through 200000 samples!\n"
     ]
    }
   ],
   "source": [
    "# messages.shape: (100000, 2, 1, 256)\n",
    "\n",
    "# message_t = \"\".join(map(chr, obs[\"message\"]))\n",
    "obs_messages = messages.reshape(-1, 256)\n",
    "obs_glyphs = glpyhs.reshape(-1, 5, 5)\n",
    "\n",
    "unique_messages = []\n",
    "unique_messages_decoded = []\n",
    "\n",
    "obs_from_unique_messages = []\n",
    "unique_indices = []\n",
    "\n",
    "global_i = 0\n",
    "for message, glyph in zip(obs_messages, obs_glyphs):\n",
    "    message_decoded = \"\".join([chr(c) for c in message if c >= 32])\n",
    "    if message_decoded not in unique_messages_decoded:\n",
    "        unique_messages_decoded.append(message_decoded)\n",
    "        #obs_from_unique_messages.append(glyph_mapper._glyph_to_rgb(glyph))\n",
    "        unique_messages.append(message)\n",
    "        unique_indices.append(global_i)\n",
    "    global_i += 1\n",
    "    if global_i % 10000 == 0:\n",
    "        print(f\"Gone through {global_i} samples!\")"
   ]
  },
  {
   "cell_type": "markdown",
   "id": "99050555",
   "metadata": {},
   "source": [
    "## Load motif and test here!"
   ]
  },
  {
   "cell_type": "code",
   "execution_count": 730,
   "id": "35620cf8",
   "metadata": {},
   "outputs": [],
   "source": [
    "import smart_settings\n",
    "from motif.reward_model import RewardModel\n",
    "from motif.eval_utils import get_batch_dict_for_reward_model, reward_model_with_mb"
   ]
  },
  {
   "cell_type": "code",
   "execution_count": 731,
   "id": "327a5a23",
   "metadata": {},
   "outputs": [],
   "source": [
    "# motif_model_dir = \"/fast/csancaktar/sensei_oracle_motif/minihack_binary_preference_job0\"\n",
    "\n",
    "# motif_model_dir = \"/fast/csancaktar/results/motif/\\\n",
    "# minihack_dummy_data/grid_minihack_inventory_64x64_new_19_fixed_staircase/working_directories/0\"\n",
    "\n",
    "# motif_model_dir = \"/fast/csancaktar/results/motif/\\\n",
    "# minihack_dummy_data/grid_minihack_inventory_64x64_100k_gpt/working_directories/10\"\n",
    "\n",
    "motif_model_dir = \"/fast/csancaktar/results/motif/\\\n",
    "minihack_dummy_data/grid_keychest_64x64_100k_gpt/working_directories/11\"\n",
    "\n",
    "model_cpt_id = 49\n",
    "device = \"cuda:0\""
   ]
  },
  {
   "cell_type": "code",
   "execution_count": 732,
   "id": "f793a4df",
   "metadata": {},
   "outputs": [],
   "source": [
    "params = smart_settings.load(os.path.join(motif_model_dir, \"settings.json\"), make_immutable=False)\n",
    "motif_reward_model = RewardModel(params[\"reward_model_params\"][\"model_params\"], device=device)\n",
    "motif_reward_model.load(\n",
    "    os.path.join(motif_model_dir, f\"checkpoint_{model_cpt_id}\")\n",
    ")"
   ]
  },
  {
   "cell_type": "code",
   "execution_count": 733,
   "id": "3047a675",
   "metadata": {},
   "outputs": [
    {
     "name": "stdout",
     "output_type": "stream",
     "text": [
      "[13.914739   -0.48833212]\n"
     ]
    }
   ],
   "source": [
    "rollout_images = images_array[dataset_i,[0,1],0,...]\n",
    "\n",
    "obs_vec = inv_glyphs_binary[dataset_i,[0,1],0,...]\n",
    "rollout_images_left = None\n",
    "batch_dict = get_batch_dict_for_reward_model(\n",
    "    motif_reward_model, rollout_images, obs_vec\n",
    ")\n",
    "reward_dict = reward_model_with_mb(motif_reward_model, batch_dict)\n",
    "\n",
    "# motif_reward = reward_dict.rewards.squeeze().detach().cpu().numpy().item()\n",
    "motif_reward = reward_dict.rewards.squeeze().detach().cpu().numpy()\n",
    "print(motif_reward)"
   ]
  },
  {
   "cell_type": "code",
   "execution_count": 718,
   "id": "8ce71e06",
   "metadata": {},
   "outputs": [],
   "source": [
    "test = inv_glyphs_binary[dataset_i,[0,1],0,...].copy()"
   ]
  },
  {
   "cell_type": "code",
   "execution_count": 719,
   "id": "9b6e4d38",
   "metadata": {},
   "outputs": [
    {
     "data": {
      "text/plain": [
       "array([[0],\n",
       "       [1]], dtype=uint8)"
      ]
     },
     "execution_count": 719,
     "metadata": {},
     "output_type": "execute_result"
    }
   ],
   "source": [
    "test"
   ]
  },
  {
   "cell_type": "code",
   "execution_count": 515,
   "id": "3472f5bb",
   "metadata": {},
   "outputs": [
    {
     "data": {
      "text/plain": [
       "32362"
      ]
     },
     "execution_count": 515,
     "metadata": {},
     "output_type": "execute_result"
    }
   ],
   "source": [
    "dataset_i"
   ]
  },
  {
   "cell_type": "code",
   "execution_count": null,
   "id": "50ee4d9f",
   "metadata": {},
   "outputs": [],
   "source": []
  }
 ],
 "metadata": {
  "kernelspec": {
   "display_name": "dreamer_venv",
   "language": "python",
   "name": "dreamer_venv"
  },
  "language_info": {
   "codemirror_mode": {
    "name": "ipython",
    "version": 3
   },
   "file_extension": ".py",
   "mimetype": "text/x-python",
   "name": "python",
   "nbconvert_exporter": "python",
   "pygments_lexer": "ipython3",
   "version": "3.10.12"
  }
 },
 "nbformat": 4,
 "nbformat_minor": 5
}
